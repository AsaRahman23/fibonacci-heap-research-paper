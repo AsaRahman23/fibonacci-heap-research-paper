{
  "nbformat": 4,
  "nbformat_minor": 0,
  "metadata": {
    "colab": {
      "provenance": [],
      "authorship_tag": "ABX9TyPG52puHDr6qVeQmPzjgB+D",
      "include_colab_link": true
    },
    "kernelspec": {
      "name": "python3",
      "display_name": "Python 3"
    },
    "language_info": {
      "name": "python"
    }
  },
  "cells": [
    {
      "cell_type": "markdown",
      "metadata": {
        "id": "view-in-github",
        "colab_type": "text"
      },
      "source": [
        "<a href=\"https://colab.research.google.com/github/AsaRahman23/fibonacci-heap-research-paper/blob/main/Untitled2.ipynb\" target=\"_parent\"><img src=\"https://colab.research.google.com/assets/colab-badge.svg\" alt=\"Open In Colab\"/></a>"
      ]
    },
    {
      "cell_type": "code",
      "execution_count": null,
      "metadata": {
        "id": "sANyemXg_3pu"
      },
      "outputs": [],
      "source": [
        "import pandas as pd\n",
        "import matplotlib.pyplot as plt\n",
        "\n",
        "# Step 1: Upload your CSV/Excel file manually in Google Colab or load it directly here\n",
        "from google.colab import files\n",
        "import io\n",
        "\n",
        "print(\"Please upload your CSV or Excel file containing weekly document counts and jobs received.\")\n",
        "uploaded = files.upload()\n",
        "filename = list(uploaded.keys())[0]\n",
        "\n",
        "# Step 2: Load the data\n",
        "if filename.endswith('.csv'):\n",
        "    data = pd.read_csv(io.BytesIO(uploaded[filename]))\n",
        "else:\n",
        "    data = pd.read_excel(io.BytesIO(uploaded[filename]))\n",
        "\n",
        "# Step 3: Explore the data\n",
        "print(\"\\nFirst few rows of your data:\")\n",
        "print(data.head())\n",
        "\n",
        "# Step 4: Calculate Total Documents per week\n",
        "data['Total_Documents'] = (\n",
        "    data['Records'] +\n",
        "    data['Briefs'] +\n",
        "    data['Motions'] +\n",
        "    data['Subpoenas'] +\n",
        "    data['Letters']\n",
        ")\n",
        "\n",
        "print(\"\\nData with Total Documents column added:\")\n",
        "print(data[['Week', 'Total_Documents', 'Jobs_Received']])\n",
        "\n",
        "# Step 5: Visualize Documents Sent vs. Jobs Received\n",
        "plt.figure(figsize=(10, 5))\n",
        "plt.plot(data['Total_Documents'], data['Jobs_Received'], 'o-', color='blue')\n",
        "plt.xlabel('Total Documents Sent')\n",
        "plt.ylabel('Jobs Received')\n",
        "plt.title('Jobs Received vs Total Documents Sent')\n",
        "plt.grid(True)\n",
        "plt.show()\n",
        "\n",
        "# Step 6: Calculate Average Jobs per Document\n",
        "average_jobs_per_doc = data['Jobs_Received'].sum() / data['Total_Documents'].sum()\n",
        "print(f\"\\nAverage jobs received per document sent: {average_jobs_per_doc:.4f}\")\n",
        "\n",
        "# Optional Step 7: Predict Jobs for Future Weeks\n",
        "future_docs = int(input(\"\\nEnter expected total documents for future week: \"))\n",
        "predicted_jobs = future_docs * average_jobs_per_doc\n",
        "print(f\"Predicted jobs next week (based on {future_docs} documents): {predicted_jobs:.2f}\")"
      ]
    }
  ]
}